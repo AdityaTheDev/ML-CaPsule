{
 "cells": [
  {
   "cell_type": "code",
   "execution_count": 1,
   "id": "a52da8f2",
   "metadata": {
    "_cell_guid": "b1076dfc-b9ad-4769-8c92-a6c4dae69d19",
    "_uuid": "8f2839f25d086af736a60e9eeb907d3b93b6e0e5",
    "execution": {
     "iopub.execute_input": "2021-11-13T15:33:52.085624Z",
     "iopub.status.busy": "2021-11-13T15:33:52.084111Z",
     "iopub.status.idle": "2021-11-13T15:33:57.565718Z",
     "shell.execute_reply": "2021-11-13T15:33:57.564630Z",
     "shell.execute_reply.started": "2021-11-13T13:58:13.808944Z"
    },
    "papermill": {
     "duration": 5.496565,
     "end_time": "2021-11-13T15:33:57.565882",
     "exception": false,
     "start_time": "2021-11-13T15:33:52.069317",
     "status": "completed"
    },
    "tags": []
   },
   "outputs": [],
   "source": [
    "import numpy as np\n",
    "import pandas as pd\n",
    "from sklearn.feature_extraction.text import CountVectorizer\n",
    "from keras.preprocessing.text import Tokenizer\n",
    "from keras.preprocessing.sequence import pad_sequences\n",
    "from keras.models import Sequential\n",
    "from keras.layers import Dense, Embedding,Bidirectional,GRU, LSTM, SpatialDropout1D\n",
    "from sklearn.model_selection import train_test_split\n",
    "from keras.utils.np_utils import to_categorical\n",
    "import re"
   ]
  },
  {
   "cell_type": "code",
   "execution_count": 2,
   "id": "8ca0f9f7",
   "metadata": {
    "execution": {
     "iopub.execute_input": "2021-11-13T15:33:57.585623Z",
     "iopub.status.busy": "2021-11-13T15:33:57.585045Z",
     "iopub.status.idle": "2021-11-13T15:33:58.142825Z",
     "shell.execute_reply": "2021-11-13T15:33:58.141957Z",
     "shell.execute_reply.started": "2021-11-13T13:58:14.973304Z"
    },
    "papermill": {
     "duration": 0.568976,
     "end_time": "2021-11-13T15:33:58.142959",
     "exception": false,
     "start_time": "2021-11-13T15:33:57.573983",
     "status": "completed"
    },
    "tags": []
   },
   "outputs": [],
   "source": [
    "data=pd.read_csv(\"../input/twitter-and-reddit-sentimental-analysis-dataset/Twitter_Data.csv\")\n",
    "data.clean_text=data.clean_text.astype(str)\n",
    "\n",
    "\n",
    "\n",
    "data = data[['clean_text','category']]"
   ]
  },
  {
   "cell_type": "code",
   "execution_count": 3,
   "id": "ef6805b6",
   "metadata": {
    "execution": {
     "iopub.execute_input": "2021-11-13T15:33:58.166048Z",
     "iopub.status.busy": "2021-11-13T15:33:58.165231Z",
     "iopub.status.idle": "2021-11-13T15:34:10.241713Z",
     "shell.execute_reply": "2021-11-13T15:34:10.242349Z",
     "shell.execute_reply.started": "2021-11-13T13:58:16.387649Z"
    },
    "papermill": {
     "duration": 12.092407,
     "end_time": "2021-11-13T15:34:10.242586",
     "exception": false,
     "start_time": "2021-11-13T15:33:58.150179",
     "status": "completed"
    },
    "tags": []
   },
   "outputs": [
    {
     "name": "stdout",
     "output_type": "stream",
     "text": [
      "144500\n",
      "71020\n"
     ]
    }
   ],
   "source": [
    "data=data[data.category !=0]\n",
    "data['clean_text']=data['clean_text'].apply(lambda x: x.lower())\n",
    "data['clean_text'] = data['clean_text'].apply((lambda x: re.sub('[^a-zA-z0-9\\s]','',x)))\n",
    "\n",
    "for idx,row in data.iterrows():\n",
    "    row[0] = row[0].replace('rt',' ')\n",
    "    \n",
    "max_features = 2000\n",
    "tokenizer = Tokenizer(num_words=max_features, split=' ')\n",
    "tokenizer.fit_on_texts(data['clean_text'].values)\n",
    "X = tokenizer.texts_to_sequences(data['clean_text'].values)\n",
    "X = pad_sequences(X)\n",
    "\n",
    "print(data[ data['category'] == 1].size)\n",
    "print(data[ data['category'] == -1].size)"
   ]
  },
  {
   "cell_type": "code",
   "execution_count": 4,
   "id": "7c0fb30e",
   "metadata": {
    "execution": {
     "iopub.execute_input": "2021-11-13T15:34:10.264462Z",
     "iopub.status.busy": "2021-11-13T15:34:10.263886Z",
     "iopub.status.idle": "2021-11-13T15:34:13.257739Z",
     "shell.execute_reply": "2021-11-13T15:34:13.258498Z",
     "shell.execute_reply.started": "2021-11-13T13:58:28.821769Z"
    },
    "papermill": {
     "duration": 3.007403,
     "end_time": "2021-11-13T15:34:13.258668",
     "exception": false,
     "start_time": "2021-11-13T15:34:10.251265",
     "status": "completed"
    },
    "tags": []
   },
   "outputs": [
    {
     "name": "stderr",
     "output_type": "stream",
     "text": [
      "2021-11-13 15:34:10.343445: I tensorflow/stream_executor/cuda/cuda_gpu_executor.cc:937] successful NUMA node read from SysFS had negative value (-1), but there must be at least one NUMA node, so returning NUMA node zero\n",
      "2021-11-13 15:34:10.451210: I tensorflow/stream_executor/cuda/cuda_gpu_executor.cc:937] successful NUMA node read from SysFS had negative value (-1), but there must be at least one NUMA node, so returning NUMA node zero\n",
      "2021-11-13 15:34:10.451943: I tensorflow/stream_executor/cuda/cuda_gpu_executor.cc:937] successful NUMA node read from SysFS had negative value (-1), but there must be at least one NUMA node, so returning NUMA node zero\n",
      "2021-11-13 15:34:10.453166: I tensorflow/core/platform/cpu_feature_guard.cc:142] This TensorFlow binary is optimized with oneAPI Deep Neural Network Library (oneDNN) to use the following CPU instructions in performance-critical operations:  AVX2 AVX512F FMA\n",
      "To enable them in other operations, rebuild TensorFlow with the appropriate compiler flags.\n",
      "2021-11-13 15:34:10.454488: I tensorflow/stream_executor/cuda/cuda_gpu_executor.cc:937] successful NUMA node read from SysFS had negative value (-1), but there must be at least one NUMA node, so returning NUMA node zero\n",
      "2021-11-13 15:34:10.455165: I tensorflow/stream_executor/cuda/cuda_gpu_executor.cc:937] successful NUMA node read from SysFS had negative value (-1), but there must be at least one NUMA node, so returning NUMA node zero\n",
      "2021-11-13 15:34:10.455831: I tensorflow/stream_executor/cuda/cuda_gpu_executor.cc:937] successful NUMA node read from SysFS had negative value (-1), but there must be at least one NUMA node, so returning NUMA node zero\n",
      "2021-11-13 15:34:12.425244: I tensorflow/stream_executor/cuda/cuda_gpu_executor.cc:937] successful NUMA node read from SysFS had negative value (-1), but there must be at least one NUMA node, so returning NUMA node zero\n",
      "2021-11-13 15:34:12.426081: I tensorflow/stream_executor/cuda/cuda_gpu_executor.cc:937] successful NUMA node read from SysFS had negative value (-1), but there must be at least one NUMA node, so returning NUMA node zero\n",
      "2021-11-13 15:34:12.426780: I tensorflow/stream_executor/cuda/cuda_gpu_executor.cc:937] successful NUMA node read from SysFS had negative value (-1), but there must be at least one NUMA node, so returning NUMA node zero\n",
      "2021-11-13 15:34:12.427442: I tensorflow/core/common_runtime/gpu/gpu_device.cc:1510] Created device /job:localhost/replica:0/task:0/device:GPU:0 with 15403 MB memory:  -> device: 0, name: Tesla P100-PCIE-16GB, pci bus id: 0000:00:04.0, compute capability: 6.0\n"
     ]
    },
    {
     "name": "stdout",
     "output_type": "stream",
     "text": [
      "Model: \"sequential\"\n",
      "_________________________________________________________________\n",
      "Layer (type)                 Output Shape              Param #   \n",
      "=================================================================\n",
      "embedding (Embedding)        (None, 47, 128)           256000    \n",
      "_________________________________________________________________\n",
      "spatial_dropout1d (SpatialDr (None, 47, 128)           0         \n",
      "_________________________________________________________________\n",
      "bidirectional (Bidirectional (None, 392)               383376    \n",
      "_________________________________________________________________\n",
      "dense (Dense)                (None, 2)                 786       \n",
      "=================================================================\n",
      "Total params: 640,162\n",
      "Trainable params: 640,162\n",
      "Non-trainable params: 0\n",
      "_________________________________________________________________\n",
      "None\n"
     ]
    }
   ],
   "source": [
    "embed_dim = 128\n",
    "gru_out = 196\n",
    "\n",
    "model = Sequential()\n",
    "model.add(Embedding(max_features, embed_dim,input_length = X.shape[1]))\n",
    "model.add(SpatialDropout1D(0.4))\n",
    "model.add(Bidirectional(GRU(gru_out, dropout=0.2, recurrent_dropout=0.2)))\n",
    "model.add(Dense(2,activation='softmax'))\n",
    "model.compile(loss = 'categorical_crossentropy', optimizer='adam',metrics = ['accuracy'])\n",
    "print(model.summary())"
   ]
  },
  {
   "cell_type": "code",
   "execution_count": 5,
   "id": "fd4d9bf8",
   "metadata": {
    "execution": {
     "iopub.execute_input": "2021-11-13T15:34:13.281753Z",
     "iopub.status.busy": "2021-11-13T15:34:13.280971Z",
     "iopub.status.idle": "2021-11-13T15:34:13.308302Z",
     "shell.execute_reply": "2021-11-13T15:34:13.308770Z",
     "shell.execute_reply.started": "2021-11-13T13:58:29.173669Z"
    },
    "papermill": {
     "duration": 0.041885,
     "end_time": "2021-11-13T15:34:13.308921",
     "exception": false,
     "start_time": "2021-11-13T15:34:13.267036",
     "status": "completed"
    },
    "tags": []
   },
   "outputs": [
    {
     "name": "stdout",
     "output_type": "stream",
     "text": [
      "(75436, 47) (75436, 2)\n",
      "(32331, 47) (32331, 2)\n"
     ]
    }
   ],
   "source": [
    "Y = pd.get_dummies(data['category']).values\n",
    "X_train, X_test, Y_train, Y_test = train_test_split(X,Y, test_size = 0.3, random_state = 42)\n",
    "print(X_train.shape,Y_train.shape)\n",
    "print(X_test.shape,Y_test.shape)"
   ]
  },
  {
   "cell_type": "code",
   "execution_count": 6,
   "id": "0db1e8df",
   "metadata": {
    "execution": {
     "iopub.execute_input": "2021-11-13T15:34:13.329676Z",
     "iopub.status.busy": "2021-11-13T15:34:13.328857Z",
     "iopub.status.idle": "2021-11-13T16:04:34.579964Z",
     "shell.execute_reply": "2021-11-13T16:04:34.579485Z",
     "shell.execute_reply.started": "2021-11-13T13:58:29.204324Z"
    },
    "papermill": {
     "duration": 1821.262975,
     "end_time": "2021-11-13T16:04:34.580092",
     "exception": false,
     "start_time": "2021-11-13T15:34:13.317117",
     "status": "completed"
    },
    "tags": []
   },
   "outputs": [
    {
     "name": "stdout",
     "output_type": "stream",
     "text": [
      "Epoch 1/2\n"
     ]
    },
    {
     "name": "stderr",
     "output_type": "stream",
     "text": [
      "2021-11-13 15:34:13.387595: I tensorflow/compiler/mlir/mlir_graph_optimization_pass.cc:185] None of the MLIR Optimization Passes are enabled (registered 2)\n"
     ]
    },
    {
     "name": "stdout",
     "output_type": "stream",
     "text": [
      "2358/2358 - 912s - loss: 0.2932 - accuracy: 0.8731\n",
      "Epoch 2/2\n",
      "2358/2358 - 909s - loss: 0.2038 - accuracy: 0.9217\n"
     ]
    },
    {
     "data": {
      "text/plain": [
       "<keras.callbacks.History at 0x7f407e21d810>"
      ]
     },
     "execution_count": 6,
     "metadata": {},
     "output_type": "execute_result"
    }
   ],
   "source": [
    "batch_size = 32\n",
    "model.fit(X_train, Y_train, epochs = 2, batch_size=batch_size, verbose = 2)"
   ]
  },
  {
   "cell_type": "code",
   "execution_count": 7,
   "id": "0d36c4c2",
   "metadata": {
    "execution": {
     "iopub.execute_input": "2021-11-13T16:04:34.608061Z",
     "iopub.status.busy": "2021-11-13T16:04:34.607118Z",
     "iopub.status.idle": "2021-11-13T16:05:01.962463Z",
     "shell.execute_reply": "2021-11-13T16:05:01.961987Z",
     "shell.execute_reply.started": "2021-11-13T14:31:15.557760Z"
    },
    "papermill": {
     "duration": 27.372119,
     "end_time": "2021-11-13T16:05:01.962613",
     "exception": false,
     "start_time": "2021-11-13T16:04:34.590494",
     "status": "completed"
    },
    "tags": []
   },
   "outputs": [
    {
     "name": "stdout",
     "output_type": "stream",
     "text": [
      "964/964 - 27s - loss: 0.1926 - accuracy: 0.9266\n",
      "score: 0.19\n",
      "acc: 0.93\n"
     ]
    }
   ],
   "source": [
    "validation_size = 1500\n",
    "\n",
    "X_validate = X_test[-validation_size:]\n",
    "Y_validate = Y_test[-validation_size:]\n",
    "X_test = X_test[:-validation_size]\n",
    "Y_test = Y_test[:-validation_size]\n",
    "score,acc = model.evaluate(X_test, Y_test, verbose = 2, batch_size = batch_size)\n",
    "print(\"score: %.2f\" % (score))\n",
    "print(\"acc: %.2f\" % (acc))"
   ]
  },
  {
   "cell_type": "code",
   "execution_count": 8,
   "id": "a1fe5154",
   "metadata": {
    "execution": {
     "iopub.execute_input": "2021-11-13T16:05:01.991107Z",
     "iopub.status.busy": "2021-11-13T16:05:01.987181Z",
     "iopub.status.idle": "2021-11-13T16:05:02.526880Z",
     "shell.execute_reply": "2021-11-13T16:05:02.526383Z",
     "shell.execute_reply.started": "2021-11-13T14:32:48.798789Z"
    },
    "papermill": {
     "duration": 0.553394,
     "end_time": "2021-11-13T16:05:02.527020",
     "exception": false,
     "start_time": "2021-11-13T16:05:01.973626",
     "status": "completed"
    },
    "tags": []
   },
   "outputs": [
    {
     "name": "stdout",
     "output_type": "stream",
     "text": [
      "[[   0    0    0    0    0    0    0    0    0    0    0    0    0    0\n",
      "     0    0    0    0    0    0    0    0    0    0    0   76   55 1737]]\n",
      "1/1 - 0s\n",
      "positive\n"
     ]
    }
   ],
   "source": [
    "text = ['Aditya is a very good boy']\n",
    "text = tokenizer.texts_to_sequences(text)\n",
    "text = pad_sequences(text, maxlen=28, dtype='int32', value=0)\n",
    "print(text)\n",
    "sentiment = model.predict(text,batch_size=1,verbose = 2)[0]\n",
    "if(np.argmax(sentiment) == 0):\n",
    "    print(\"negative\")\n",
    "elif (np.argmax(sentiment) == 1):\n",
    "    print(\"positive\")"
   ]
  },
  {
   "cell_type": "code",
   "execution_count": null,
   "id": "8088a285",
   "metadata": {
    "papermill": {
     "duration": 0.011514,
     "end_time": "2021-11-13T16:05:02.550694",
     "exception": false,
     "start_time": "2021-11-13T16:05:02.539180",
     "status": "completed"
    },
    "tags": []
   },
   "outputs": [],
   "source": []
  }
 ],
 "metadata": {
  "kernelspec": {
   "display_name": "Python 3",
   "language": "python",
   "name": "python3"
  },
  "language_info": {
   "codemirror_mode": {
    "name": "ipython",
    "version": 3
   },
   "file_extension": ".py",
   "mimetype": "text/x-python",
   "name": "python",
   "nbconvert_exporter": "python",
   "pygments_lexer": "ipython3",
   "version": "3.7.10"
  },
  "papermill": {
   "default_parameters": {},
   "duration": 1881.196989,
   "end_time": "2021-11-13T16:05:05.413504",
   "environment_variables": {},
   "exception": null,
   "input_path": "__notebook__.ipynb",
   "output_path": "__notebook__.ipynb",
   "parameters": {},
   "start_time": "2021-11-13T15:33:44.216515",
   "version": "2.3.3"
  }
 },
 "nbformat": 4,
 "nbformat_minor": 5
}
